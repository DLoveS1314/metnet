{
 "cells": [
  {
   "cell_type": "code",
   "execution_count": 1,
   "metadata": {},
   "outputs": [],
   "source": [
    "def feat2image(x, target_size=(128,128)): \n",
    "    \"This idea comes from MetNet\"\n",
    "    x = x.transpose(1,2)\n",
    "    \n",
    "    return x.unsqueeze(-1).unsqueeze(-1) * x.new_ones(1,1,1,*target_size)"
   ]
  },
  {
   "cell_type": "code",
   "execution_count": 15,
   "metadata": {},
   "outputs": [
    {
     "name": "stdout",
     "output_type": "stream",
     "text": [
      "x:torch.Size([1, 3, 1, 1, 1])\n",
      "x_ones:torch.Size([1, 1, 1, 128, 128])\n"
     ]
    },
    {
     "data": {
      "text/plain": [
       "tensor([[[[[[[0.6650, 0.6650, 0.6650, 0.6650],\n",
       "             [0.6650, 0.6650, 0.6650, 0.6650],\n",
       "             [0.6650, 0.6650, 0.6650, 0.6650],\n",
       "             [0.6650, 0.6650, 0.6650, 0.6650]]]],\n",
       "\n",
       "\n",
       "\n",
       "          [[[[0.4664, 0.4664, 0.4664, 0.4664],\n",
       "             [0.4664, 0.4664, 0.4664, 0.4664],\n",
       "             [0.4664, 0.4664, 0.4664, 0.4664],\n",
       "             [0.4664, 0.4664, 0.4664, 0.4664]]]],\n",
       "\n",
       "\n",
       "\n",
       "          [[[[0.8795, 0.8795, 0.8795, 0.8795],\n",
       "             [0.8795, 0.8795, 0.8795, 0.8795],\n",
       "             [0.8795, 0.8795, 0.8795, 0.8795],\n",
       "             [0.8795, 0.8795, 0.8795, 0.8795]]]]]]])"
      ]
     },
     "execution_count": 15,
     "metadata": {},
     "output_type": "execute_result"
    }
   ],
   "source": [
    "import torch\n",
    "target_size=(128,128)\n",
    "x = torch.rand(1,1,3)\n",
    "x = x.transpose(1,2)\n",
    "    \n",
    "x=x.unsqueeze(-1).unsqueeze(-1)  \n",
    "print(f\"x:{x.shape}\")\n",
    "\n",
    "x_ones=x.new_ones(1,1,1,*target_size)\n",
    "print(f\"x_ones:{x_ones.shape}\")\n",
    "feat2image(x, target_size=(4,4)) "
   ]
  },
  {
   "cell_type": "code",
   "execution_count": 29,
   "metadata": {},
   "outputs": [
    {
     "name": "stdout",
     "output_type": "stream",
     "text": [
      "sample_time:(1, 3)\n",
      "sample_time:(1, 1, 1, 1, 3),[[[[[12.  1.  3.]]]]]\n",
      "sample_time:(1, 1, 4, 4, 3),[[[[[12.  1.  3.]\n",
      "    [12.  1.  3.]\n",
      "    [12.  1.  3.]\n",
      "    [12.  1.  3.]]\n",
      "\n",
      "   [[12.  1.  3.]\n",
      "    [12.  1.  3.]\n",
      "    [12.  1.  3.]\n",
      "    [12.  1.  3.]]\n",
      "\n",
      "   [[12.  1.  3.]\n",
      "    [12.  1.  3.]\n",
      "    [12.  1.  3.]\n",
      "    [12.  1.  3.]]\n",
      "\n",
      "   [[12.  1.  3.]\n",
      "    [12.  1.  3.]\n",
      "    [12.  1.  3.]\n",
      "    [12.  1.  3.]]]]]\n"
     ]
    }
   ],
   "source": [
    "import datetime\n",
    "import numpy as np\n",
    "batch_size=1\n",
    "spatial_dim=4\n",
    "# Time of the sample.\n",
    "sample_time = [datetime.datetime(2020, 3, 1, 12, 0, 0)] * batch_size\n",
    "# print(f\"sample_time:{sample_time}\")\n",
    "# Timedelta to predict.\n",
    "td = np.array([60] * batch_size)  # In minutes\n",
    "sample_time = np.array([[x.hour, x.day, x.month] for x in sample_time],\n",
    "                        dtype=np.float16)\n",
    "print(f\"sample_time:{sample_time.shape}\")#(10, 3)\n",
    "\n",
    "sample_time = np.reshape(sample_time, [batch_size, 1, 1, 1, 3])\n",
    "print(f\"sample_time:{sample_time.shape},{sample_time}\") #(10, 1, 1, 1, 3)\n",
    "\n",
    "sample_time = np.tile(sample_time, [1, 1, spatial_dim, spatial_dim, 1])\n",
    "print(f\"sample_time:{sample_time.shape},{sample_time}\") #(10, 1, 4, 4, 3)\n",
    "\n"
   ]
  },
  {
   "cell_type": "code",
   "execution_count": 31,
   "metadata": {},
   "outputs": [
    {
     "data": {
      "text/plain": [
       "array([29, 29])"
      ]
     },
     "execution_count": 31,
     "metadata": {},
     "output_type": "execute_result"
    }
   ],
   "source": [
    "td=60\n",
    "target_index=td // 2 - 1\n",
    "np.stack([target_index, target_index], axis=-1)"
   ]
  },
  {
   "cell_type": "code",
   "execution_count": 38,
   "metadata": {},
   "outputs": [
    {
     "name": "stdout",
     "output_type": "stream",
     "text": [
      "x0 [[False False False False False  True  True  True  True  True  True  True\n",
      "   True  True  True  True  True  True  True  True]]\n",
      "x0 [[False False False False False  True  True  True  True  True  True  True\n",
      "   True  True  True  True  True  True  True  True]]\n",
      "x [[False False False False False  True False False False False False False\n",
      "  False False False False False False False False]]\n"
     ]
    },
    {
     "data": {
      "text/plain": [
       "(1, 20)"
      ]
     },
     "execution_count": 38,
     "metadata": {},
     "output_type": "execute_result"
    }
   ],
   "source": [
    "def onehot_range(labels, num_classes, on_value=1.0, off_value=0.0):\n",
    "  \"\"\"Onehot but instead of a single 1, multiple 1's in a range is returned.\n",
    "\n",
    "  Similar to common_utils.onehot but instead of 0...010...0, it returns\n",
    "  0...01...10...0 where the provided range is inclusive for both beginning and\n",
    "  end.\n",
    "\n",
    "  Args:\n",
    "    labels: ndarray-like, shape=(..., 2)\n",
    "    num_classes: Number of classes.\n",
    "    on_value: The value to use in the range.\n",
    "    off_value: The value to use outside the range.\n",
    "\n",
    "  Returns:\n",
    "    ndarray-like, shape=(..., num_classes)\n",
    "  \"\"\"\n",
    "  x0 = (labels[..., 0, None] <= np.arange(num_classes)[None])\n",
    "  x1 = (labels[..., 1, None] >= np.arange(num_classes)[None])\n",
    "  print(\"x0\", x0)\n",
    "  print(\"x0\", x0)\n",
    "  \n",
    "  \n",
    "  x = x0 & x1\n",
    "  print(\"x\", x)\n",
    "  x = np.select(x, np.full(x.shape, on_value), np.full(x.shape, off_value))\n",
    "  return x.astype(np.float32)\n",
    "onehot_range(np.array([5,5]),20).shape"
   ]
  }
 ],
 "metadata": {
  "kernelspec": {
   "display_name": "Python 3.9.9 ('TORCHGPU')",
   "language": "python",
   "name": "python3"
  },
  "language_info": {
   "codemirror_mode": {
    "name": "ipython",
    "version": 3
   },
   "file_extension": ".py",
   "mimetype": "text/x-python",
   "name": "python",
   "nbconvert_exporter": "python",
   "pygments_lexer": "ipython3",
   "version": "3.9.9"
  },
  "orig_nbformat": 4,
  "vscode": {
   "interpreter": {
    "hash": "68f0b9b2257d47859ea2d5cf5b960ecd7c4ca6869d25de89442581af22690839"
   }
  }
 },
 "nbformat": 4,
 "nbformat_minor": 2
}
